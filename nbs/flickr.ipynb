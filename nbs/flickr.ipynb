{
 "cells": [
  {
   "cell_type": "code",
   "execution_count": 1,
   "metadata": {
    "collapsed": false
   },
   "outputs": [],
   "source": [
    "import os\n",
    "import flickrapi\n",
    "\n",
    "api_key = os.environ.get('FLICKR_KEY')\n",
    "api_secret = os.environ.get('FLICKR_SECRET')\n",
    "\n",
    "flickr = flickrapi.FlickrAPI(api_key, api_secret)"
   ]
  },
  {
   "cell_type": "code",
   "execution_count": null,
   "metadata": {
    "collapsed": true
   },
   "outputs": [],
   "source": []
  },
  {
   "cell_type": "code",
   "execution_count": 2,
   "metadata": {
    "collapsed": false,
    "scrolled": false
   },
   "outputs": [
    {
     "name": "stderr",
     "output_type": "stream",
     "text": [
      "do_request: Status code 401 received, content:\n",
      "    oauth_problem=signature_invalid\n",
      "    debug_sbs=POST\n",
      "    https://www.flickr.com/services/oauth/request_token\n",
      "    oauth_callback=oob&oauth_consumer_key=fb5239d737a0070a19d065876c29ba42&oauth_nonce=177812919211233530131484433242&oauth_signature_method=HMAC-SHA1&oauth_timestamp=1484433242&oauth_token=72157677649630750-b7a3875a5d04fe13&oauth_version=1.0\n"
     ]
    },
    {
     "ename": "FlickrError",
     "evalue": "do_request: Status code 401 received",
     "output_type": "error",
     "traceback": [
      "\u001b[0;31m----------------------------------------------------------------\u001b[0m",
      "\u001b[0;31mFlickrError\u001b[0m                    Traceback (most recent call last)",
      "\u001b[0;32m<ipython-input-2-fb2faf94bc99>\u001b[0m in \u001b[0;36m<module>\u001b[0;34m()\u001b[0m\n\u001b[0;32m----> 1\u001b[0;31m \u001b[0mflickr\u001b[0m\u001b[0;34m.\u001b[0m\u001b[0mget_request_token\u001b[0m\u001b[0;34m(\u001b[0m\u001b[0moauth_callback\u001b[0m\u001b[0;34m=\u001b[0m\u001b[0;34m'oob'\u001b[0m\u001b[0;34m)\u001b[0m\u001b[0;34m\u001b[0m\u001b[0m\n\u001b[0m",
      "\u001b[0;32m/home/jhoward/anaconda3/lib/python3.5/site-packages/flickrapi/core.py\u001b[0m in \u001b[0;36mget_request_token\u001b[0;34m(self, oauth_callback)\u001b[0m\n\u001b[1;32m    608\u001b[0m         \"\"\"\n\u001b[1;32m    609\u001b[0m \u001b[0;34m\u001b[0m\u001b[0m\n\u001b[0;32m--> 610\u001b[0;31m         \u001b[0mself\u001b[0m\u001b[0;34m.\u001b[0m\u001b[0mflickr_oauth\u001b[0m\u001b[0;34m.\u001b[0m\u001b[0mget_request_token\u001b[0m\u001b[0;34m(\u001b[0m\u001b[0moauth_callback\u001b[0m\u001b[0;34m=\u001b[0m\u001b[0moauth_callback\u001b[0m\u001b[0;34m)\u001b[0m\u001b[0;34m\u001b[0m\u001b[0m\n\u001b[0m\u001b[1;32m    611\u001b[0m \u001b[0;34m\u001b[0m\u001b[0m\n\u001b[1;32m    612\u001b[0m     \u001b[0;32mdef\u001b[0m \u001b[0mauth_url\u001b[0m\u001b[0;34m(\u001b[0m\u001b[0mself\u001b[0m\u001b[0;34m,\u001b[0m \u001b[0mperms\u001b[0m\u001b[0;34m=\u001b[0m\u001b[0;34m'read'\u001b[0m\u001b[0;34m)\u001b[0m\u001b[0;34m:\u001b[0m\u001b[0;34m\u001b[0m\u001b[0m\n",
      "\u001b[0;32m/home/jhoward/anaconda3/lib/python3.5/site-packages/flickrapi/auth.py\u001b[0m in \u001b[0;36mget_request_token\u001b[0;34m(self, oauth_callback)\u001b[0m\n\u001b[1;32m    356\u001b[0m         }\n\u001b[1;32m    357\u001b[0m \u001b[0;34m\u001b[0m\u001b[0m\n\u001b[0;32m--> 358\u001b[0;31m         \u001b[0mtoken_data\u001b[0m \u001b[0;34m=\u001b[0m \u001b[0mself\u001b[0m\u001b[0;34m.\u001b[0m\u001b[0mdo_request\u001b[0m\u001b[0;34m(\u001b[0m\u001b[0mself\u001b[0m\u001b[0;34m.\u001b[0m\u001b[0mREQUEST_TOKEN_URL\u001b[0m\u001b[0;34m,\u001b[0m \u001b[0mparams\u001b[0m\u001b[0;34m)\u001b[0m\u001b[0;34m\u001b[0m\u001b[0m\n\u001b[0m\u001b[1;32m    359\u001b[0m         \u001b[0mself\u001b[0m\u001b[0;34m.\u001b[0m\u001b[0mlog\u001b[0m\u001b[0;34m.\u001b[0m\u001b[0mdebug\u001b[0m\u001b[0;34m(\u001b[0m\u001b[0;34m'Token data: %s'\u001b[0m\u001b[0;34m,\u001b[0m \u001b[0mtoken_data\u001b[0m\u001b[0;34m)\u001b[0m\u001b[0;34m\u001b[0m\u001b[0m\n\u001b[1;32m    360\u001b[0m \u001b[0;34m\u001b[0m\u001b[0m\n",
      "\u001b[0;32m/home/jhoward/anaconda3/lib/python3.5/site-packages/flickrapi/auth.py\u001b[0m in \u001b[0;36mdo_request\u001b[0;34m(self, url, params)\u001b[0m\n\u001b[1;32m    253\u001b[0m                 \u001b[0mself\u001b[0m\u001b[0;34m.\u001b[0m\u001b[0mlog\u001b[0m\u001b[0;34m.\u001b[0m\u001b[0merror\u001b[0m\u001b[0;34m(\u001b[0m\u001b[0;34m'    %s'\u001b[0m\u001b[0;34m,\u001b[0m \u001b[0murllib_parse\u001b[0m\u001b[0;34m.\u001b[0m\u001b[0munquote\u001b[0m\u001b[0;34m(\u001b[0m\u001b[0mpart\u001b[0m\u001b[0;34m)\u001b[0m\u001b[0;34m)\u001b[0m\u001b[0;34m\u001b[0m\u001b[0m\n\u001b[1;32m    254\u001b[0m \u001b[0;34m\u001b[0m\u001b[0m\n\u001b[0;32m--> 255\u001b[0;31m             \u001b[0;32mraise\u001b[0m \u001b[0mexceptions\u001b[0m\u001b[0;34m.\u001b[0m\u001b[0mFlickrError\u001b[0m\u001b[0;34m(\u001b[0m\u001b[0;34m'do_request: Status code %s received'\u001b[0m \u001b[0;34m%\u001b[0m \u001b[0mreq\u001b[0m\u001b[0;34m.\u001b[0m\u001b[0mstatus_code\u001b[0m\u001b[0;34m)\u001b[0m\u001b[0;34m\u001b[0m\u001b[0m\n\u001b[0m\u001b[1;32m    256\u001b[0m \u001b[0;34m\u001b[0m\u001b[0m\n\u001b[1;32m    257\u001b[0m         \u001b[0;32mreturn\u001b[0m \u001b[0mreq\u001b[0m\u001b[0;34m.\u001b[0m\u001b[0mcontent\u001b[0m\u001b[0;34m\u001b[0m\u001b[0m\n",
      "\u001b[0;31mFlickrError\u001b[0m: do_request: Status code 401 received"
     ]
    }
   ],
   "source": [
    "flickr.get_request_token(oauth_callback='oob')"
   ]
  },
  {
   "cell_type": "code",
   "execution_count": 4,
   "metadata": {
    "collapsed": false,
    "scrolled": true
   },
   "outputs": [
    {
     "name": "stdout",
     "output_type": "stream",
     "text": [
      "Step 1: authenticate\n",
      "https://www.flickr.com/services/oauth/authorize?oauth_token=72157679022966726-47687ee3a3a9c596&perms=read\n"
     ]
    }
   ],
   "source": [
    "print('Step 1: authenticate')\n",
    "\n",
    "# Only do this if we don't have a valid token already\n",
    "if not flickr.token_valid(perms='read'):\n",
    "\n",
    "    # Get a request token\n",
    "    flickr.get_request_token(oauth_callback='oob')\n",
    "\n",
    "    # Open a browser at the authentication URL. Do this however\n",
    "    # you want, as long as the user visits that URL.\n",
    "    authorize_url = flickr.auth_url(perms='read')\n",
    "    print(authorize_url)"
   ]
  },
  {
   "cell_type": "code",
   "execution_count": null,
   "metadata": {
    "collapsed": false
   },
   "outputs": [
    {
     "name": "stdout",
     "output_type": "stream",
     "text": [
      "Step 1: authenticate\n",
      "Verifier code: 667-766-226\n"
     ]
    }
   ],
   "source": [
    "verifier = str(input('Verifier code: '))\n",
    "\n",
    "# Trade the request token for an access token\n",
    "flickr.get_access_token(verifier)\n",
    "\n",
    "print('Step 2: use Flickr')\n",
    "resp = flickr.photos.getInfo(photo_id='7658567128')"
   ]
  },
  {
   "cell_type": "code",
   "execution_count": 5,
   "metadata": {
    "collapsed": false
   },
   "outputs": [
    {
     "ename": "NameError",
     "evalue": "name 'resp' is not defined",
     "output_type": "error",
     "traceback": [
      "\u001b[0;31m-----------------------------------------------------\u001b[0m",
      "\u001b[0;31mNameError\u001b[0m           Traceback (most recent call last)",
      "\u001b[0;32m<ipython-input-5-fa99358403e9>\u001b[0m in \u001b[0;36m<module>\u001b[0;34m()\u001b[0m\n\u001b[0;32m----> 1\u001b[0;31m \u001b[0mresp\u001b[0m\u001b[0;34m\u001b[0m\u001b[0m\n\u001b[0m",
      "\u001b[0;31mNameError\u001b[0m: name 'resp' is not defined"
     ]
    }
   ],
   "source": []
  },
  {
   "cell_type": "code",
   "execution_count": null,
   "metadata": {
    "collapsed": true
   },
   "outputs": [],
   "source": []
  }
 ],
 "metadata": {
  "anaconda-cloud": {},
  "kernelspec": {
   "display_name": "Python [conda root]",
   "language": "python",
   "name": "conda-root-py"
  },
  "language_info": {
   "codemirror_mode": {
    "name": "ipython",
    "version": 3
   },
   "file_extension": ".py",
   "mimetype": "text/x-python",
   "name": "python",
   "nbconvert_exporter": "python",
   "pygments_lexer": "ipython3",
   "version": "3.5.2"
  }
 },
 "nbformat": 4,
 "nbformat_minor": 2
}
