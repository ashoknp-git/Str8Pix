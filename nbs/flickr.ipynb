{
 "cells": [
  {
   "cell_type": "code",
   "execution_count": 1,
   "metadata": {
    "collapsed": true
   },
   "outputs": [],
   "source": [
    "import os, requests_oauthlib, flickrapi\n",
    "from IPython import display"
   ]
  },
  {
   "cell_type": "code",
   "execution_count": 2,
   "metadata": {
    "collapsed": false
   },
   "outputs": [
    {
     "data": {
      "text/plain": [
       "'fb5239d737a0070a19d065876c29ba42'"
      ]
     },
     "execution_count": 2,
     "metadata": {},
     "output_type": "execute_result"
    }
   ],
   "source": [
    "api_key = os.environ.get('FLICKR_KEY')\n",
    "api_secret = os.environ.get('FLICKR_SECRET')\n",
    "api_key"
   ]
  },
  {
   "cell_type": "markdown",
   "metadata": {
    "heading_collapsed": true
   },
   "source": [
    "## Authentication (not needed)"
   ]
  },
  {
   "cell_type": "code",
   "execution_count": 8,
   "metadata": {
    "collapsed": false,
    "hidden": true
   },
   "outputs": [],
   "source": [
    "request_token_url = 'https://www.flickr.com/services/oauth/request_token'\n",
    "access_token_url = 'https://www.flickr.com/services/oauth/access_token'\n",
    "authorization_url = 'https://www.flickr.com/services/oauth/authorize'"
   ]
  },
  {
   "cell_type": "code",
   "execution_count": 10,
   "metadata": {
    "collapsed": false,
    "hidden": true
   },
   "outputs": [],
   "source": [
    "sess = requests_oauthlib.OAuth1Session(client_key=api_key, client_secret=api_secret,\n",
    "    signature_method=u'HMAC-SHA1', signature_type=u'AUTH_HEADER',\n",
    "    callback_uri='oob')"
   ]
  },
  {
   "cell_type": "code",
   "execution_count": 11,
   "metadata": {
    "collapsed": false,
    "hidden": true
   },
   "outputs": [
    {
     "name": "stdout",
     "output_type": "stream",
     "text": [
      "token=72157677203883132-c21a3251c4023b78\n",
      "token_secret=0f31a0451e3bf80a\n"
     ]
    }
   ],
   "source": [
    "request_token = sess.fetch_request_token(request_token_url)\n",
    "oauth_token = request_token.get('oauth_token')\n",
    "oauth_token_secret = request_token.get('oauth_token_secret')\n",
    "print('token='+oauth_token)\n",
    "print('token_secret='+oauth_token_secret)"
   ]
  },
  {
   "cell_type": "code",
   "execution_count": 12,
   "metadata": {
    "collapsed": false,
    "hidden": true
   },
   "outputs": [
    {
     "name": "stdout",
     "output_type": "stream",
     "text": [
      "https://www.flickr.com/services/oauth/authorize?oauth_token=72157677203883132-c21a3251c4023b78\n"
     ]
    }
   ],
   "source": [
    "print (sess.authorization_url(authorization_url))"
   ]
  },
  {
   "cell_type": "code",
   "execution_count": 14,
   "metadata": {
    "collapsed": true,
    "hidden": true
   },
   "outputs": [],
   "source": [
    "verifier = '431-914-645'"
   ]
  },
  {
   "cell_type": "code",
   "execution_count": 16,
   "metadata": {
    "collapsed": false,
    "hidden": true
   },
   "outputs": [],
   "source": [
    "auth_sess = requests_oauthlib.OAuth1Session(api_key,\n",
    "  client_secret=api_secret, resource_owner_key=oauth_token,\n",
    "  resource_owner_secret=oauth_token_secret, verifier=verifier)"
   ]
  },
  {
   "cell_type": "code",
   "execution_count": 17,
   "metadata": {
    "collapsed": true,
    "hidden": true
   },
   "outputs": [],
   "source": [
    "acc_tokens = auth_sess.fetch_access_token(access_token_url)"
   ]
  },
  {
   "cell_type": "code",
   "execution_count": 20,
   "metadata": {
    "collapsed": false,
    "hidden": true
   },
   "outputs": [
    {
     "name": "stdout",
     "output_type": "stream",
     "text": [
      "acc_oauth_token=72157679188248685-b96a54b36dfd0e15\n",
      "acc_oauth_token_secret=f63c5f7ce7a85e70\n"
     ]
    }
   ],
   "source": [
    "acc_oauth_token = acc_tokens.get('oauth_token')\n",
    "acc_oauth_token_secret = acc_tokens.get('oauth_token_secret')\n",
    "print('acc_oauth_token='+acc_oauth_token)\n",
    "print('acc_oauth_token_secret='+acc_oauth_token_secret)"
   ]
  },
  {
   "cell_type": "code",
   "execution_count": 21,
   "metadata": {
    "collapsed": true,
    "hidden": true
   },
   "outputs": [],
   "source": [
    "acc_oauth_token='72157679188248685-b96a54b36dfd0e15'\n",
    "acc_oauth_token_secret='f63c5f7ce7a85e70'"
   ]
  },
  {
   "cell_type": "code",
   "execution_count": 22,
   "metadata": {
    "collapsed": false,
    "hidden": true
   },
   "outputs": [],
   "source": [
    "auth_sess = requests_oauthlib.OAuth1Session(api_key,\n",
    "  client_secret=api_secret, resource_owner_key=acc_oauth_token,\n",
    "  resource_owner_secret=acc_oauth_token_secret)"
   ]
  },
  {
   "cell_type": "markdown",
   "metadata": {},
   "source": [
    "## Use API"
   ]
  },
  {
   "cell_type": "code",
   "execution_count": 3,
   "metadata": {
    "collapsed": true
   },
   "outputs": [],
   "source": [
    "flickr = flickrapi.FlickrAPI(api_key, api_secret, format='parsed-json')"
   ]
  },
  {
   "cell_type": "code",
   "execution_count": 4,
   "metadata": {
    "collapsed": true
   },
   "outputs": [],
   "source": [
    "extras='url_t,url_s,url_m,url_n,url_z,url_c,tags,machine_tags,o_dims,views'"
   ]
  },
  {
   "cell_type": "code",
   "execution_count": 5,
   "metadata": {
    "collapsed": true
   },
   "outputs": [],
   "source": [
    "def find_photos(params, page=1):\n",
    "    return flickr.photos.search(**params, per_page='500', extras=extras, page=page, \n",
    "                                media='photo')"
   ]
  },
  {
   "cell_type": "code",
   "execution_count": 52,
   "metadata": {
    "collapsed": true
   },
   "outputs": [],
   "source": [
    "from datetime import datetime\n",
    "import random, requests\n",
    "import pandas as pd\n",
    "from concurrent import futures"
   ]
  },
  {
   "cell_type": "code",
   "execution_count": 53,
   "metadata": {
    "collapsed": false
   },
   "outputs": [],
   "source": [
    "def get_rand_timestamp():\n",
    "    # returns a random timestamp between 1/1/2007 and 1/1/2017, as a way to randomly choose photos\n",
    "    return random.randint(datetime(2007, 1, 1).timestamp(), datetime(2017, 1, 1).timestamp())"
   ]
  },
  {
   "cell_type": "code",
   "execution_count": 54,
   "metadata": {
    "collapsed": true
   },
   "outputs": [],
   "source": [
    "data_dict = {}"
   ]
  },
  {
   "cell_type": "code",
   "execution_count": 55,
   "metadata": {
    "collapsed": false
   },
   "outputs": [],
   "source": [
    "def get_photo(p):\n",
    "    data_dict[p['id']] = p\n",
    "    img_data = requests.get(p['url_s']).content\n",
    "    filename = 'images/flickr/' + p['id'] + '.jpg'\n",
    "    with open(filename, 'wb') as handler:\n",
    "        handler.write(img_data)"
   ]
  },
  {
   "cell_type": "markdown",
   "metadata": {},
   "source": [
    "Parallelized calls to Flickr API to download photos and their meta data from 10 randomly chosen time ranges"
   ]
  },
  {
   "cell_type": "code",
   "execution_count": 56,
   "metadata": {
    "collapsed": false
   },
   "outputs": [
    {
     "name": "stdout",
     "output_type": "stream",
     "text": [
      "0\n",
      "1\n",
      "2\n",
      "3\n",
      "4\n",
      "5\n",
      "6\n",
      "7\n",
      "8\n",
      "9\n",
      "CPU times: user 1min 45s, sys: 4.41 s, total: 1min 50s\n",
      "Wall time: 2min 33s\n"
     ]
    }
   ],
   "source": [
    "%%time\n",
    "for n in range(10):\n",
    "    timestamp = get_rand_timestamp()\n",
    "    resp = find_photos({'min_taken_date': timestamp, 'max_taken_date': timestamp + 5})\n",
    "    photos = resp['photos']['photo']\n",
    "    with futures.ThreadPoolExecutor(16) as exec:\n",
    "        tasks = [exec.submit(get_photo, p) for p in photos]\n",
    "        futures.wait(tasks)\n",
    "    print(n)"
   ]
  },
  {
   "cell_type": "markdown",
   "metadata": {},
   "source": [
    "Store the meta data for the photos in a DataFrame, with index as the photo id.  Pickle this dataframe"
   ]
  },
  {
   "cell_type": "code",
   "execution_count": 57,
   "metadata": {
    "collapsed": false
   },
   "outputs": [],
   "source": [
    "df = pd.DataFrame.from_dict(data_dict, orient='index')"
   ]
  },
  {
   "cell_type": "code",
   "execution_count": 59,
   "metadata": {
    "collapsed": false
   },
   "outputs": [
    {
     "data": {
      "text/plain": [
       "(4498, 32)"
      ]
     },
     "execution_count": 59,
     "metadata": {},
     "output_type": "execute_result"
    }
   ],
   "source": [
    "df.shape"
   ]
  },
  {
   "cell_type": "code",
   "execution_count": 63,
   "metadata": {
    "collapsed": false
   },
   "outputs": [],
   "source": [
    "pickle_path = \"flickr_meta_data.p\"\n",
    "df.to_pickle(pickle_path)"
   ]
  },
  {
   "cell_type": "markdown",
   "metadata": {},
   "source": [
    "Test that we can load pickled file as expected"
   ]
  },
  {
   "cell_type": "code",
   "execution_count": 64,
   "metadata": {
    "collapsed": true
   },
   "outputs": [],
   "source": [
    "df2 = pd.read_pickle(pickle_path)"
   ]
  },
  {
   "cell_type": "code",
   "execution_count": 69,
   "metadata": {
    "collapsed": false
   },
   "outputs": [
    {
     "data": {
      "text/html": [
       "<div>\n",
       "<table border=\"1\" class=\"dataframe\">\n",
       "  <thead>\n",
       "    <tr style=\"text-align: right;\">\n",
       "      <th></th>\n",
       "      <th>width_m</th>\n",
       "      <th>url_s</th>\n",
       "      <th>isfriend</th>\n",
       "      <th>width_n</th>\n",
       "      <th>width_t</th>\n",
       "      <th>o_width</th>\n",
       "      <th>ispublic</th>\n",
       "      <th>isfamily</th>\n",
       "      <th>url_t</th>\n",
       "      <th>url_m</th>\n",
       "      <th>...</th>\n",
       "      <th>title</th>\n",
       "      <th>height_m</th>\n",
       "      <th>height_s</th>\n",
       "      <th>server</th>\n",
       "      <th>farm</th>\n",
       "      <th>url_z</th>\n",
       "      <th>o_height</th>\n",
       "      <th>height_c</th>\n",
       "      <th>url_c</th>\n",
       "      <th>width_c</th>\n",
       "    </tr>\n",
       "  </thead>\n",
       "  <tbody>\n",
       "    <tr>\n",
       "      <th>10034322894</th>\n",
       "      <td>500</td>\n",
       "      <td>https://farm4.staticflickr.com/3718/1003432289...</td>\n",
       "      <td>0</td>\n",
       "      <td>320</td>\n",
       "      <td>100</td>\n",
       "      <td>NaN</td>\n",
       "      <td>1</td>\n",
       "      <td>0</td>\n",
       "      <td>https://farm4.staticflickr.com/3718/1003432289...</td>\n",
       "      <td>https://farm4.staticflickr.com/3718/1003432289...</td>\n",
       "      <td>...</td>\n",
       "      <td>364-Empire State Building</td>\n",
       "      <td>333</td>\n",
       "      <td>160</td>\n",
       "      <td>3718</td>\n",
       "      <td>4</td>\n",
       "      <td>https://farm4.staticflickr.com/3718/1003432289...</td>\n",
       "      <td>NaN</td>\n",
       "      <td>534</td>\n",
       "      <td>https://farm4.staticflickr.com/3718/1003432289...</td>\n",
       "      <td>800</td>\n",
       "    </tr>\n",
       "    <tr>\n",
       "      <th>10054729026</th>\n",
       "      <td>500</td>\n",
       "      <td>https://farm6.staticflickr.com/5539/1005472902...</td>\n",
       "      <td>0</td>\n",
       "      <td>320</td>\n",
       "      <td>100</td>\n",
       "      <td>NaN</td>\n",
       "      <td>1</td>\n",
       "      <td>0</td>\n",
       "      <td>https://farm6.staticflickr.com/5539/1005472902...</td>\n",
       "      <td>https://farm6.staticflickr.com/5539/1005472902...</td>\n",
       "      <td>...</td>\n",
       "      <td>IMG_3661</td>\n",
       "      <td>375</td>\n",
       "      <td>180</td>\n",
       "      <td>5539</td>\n",
       "      <td>6</td>\n",
       "      <td>https://farm6.staticflickr.com/5539/1005472902...</td>\n",
       "      <td>NaN</td>\n",
       "      <td>600</td>\n",
       "      <td>https://farm6.staticflickr.com/5539/1005472902...</td>\n",
       "      <td>800</td>\n",
       "    </tr>\n",
       "    <tr>\n",
       "      <th>10061552514</th>\n",
       "      <td>332</td>\n",
       "      <td>https://farm6.staticflickr.com/5329/1006155251...</td>\n",
       "      <td>0</td>\n",
       "      <td>213</td>\n",
       "      <td>66</td>\n",
       "      <td>NaN</td>\n",
       "      <td>1</td>\n",
       "      <td>0</td>\n",
       "      <td>https://farm6.staticflickr.com/5329/1006155251...</td>\n",
       "      <td>https://farm6.staticflickr.com/5329/1006155251...</td>\n",
       "      <td>...</td>\n",
       "      <td>Ebrington Arms pub (2)</td>\n",
       "      <td>500</td>\n",
       "      <td>240</td>\n",
       "      <td>5329</td>\n",
       "      <td>6</td>\n",
       "      <td>https://farm6.staticflickr.com/5329/1006155251...</td>\n",
       "      <td>NaN</td>\n",
       "      <td>800</td>\n",
       "      <td>https://farm6.staticflickr.com/5329/1006155251...</td>\n",
       "      <td>531</td>\n",
       "    </tr>\n",
       "    <tr>\n",
       "      <th>10061617566</th>\n",
       "      <td>500</td>\n",
       "      <td>https://farm3.staticflickr.com/2860/1006161756...</td>\n",
       "      <td>0</td>\n",
       "      <td>320</td>\n",
       "      <td>100</td>\n",
       "      <td>NaN</td>\n",
       "      <td>1</td>\n",
       "      <td>0</td>\n",
       "      <td>https://farm3.staticflickr.com/2860/1006161756...</td>\n",
       "      <td>https://farm3.staticflickr.com/2860/1006161756...</td>\n",
       "      <td>...</td>\n",
       "      <td>Ebrington Arms pub (3)</td>\n",
       "      <td>334</td>\n",
       "      <td>160</td>\n",
       "      <td>2860</td>\n",
       "      <td>3</td>\n",
       "      <td>https://farm3.staticflickr.com/2860/1006161756...</td>\n",
       "      <td>NaN</td>\n",
       "      <td>534</td>\n",
       "      <td>https://farm3.staticflickr.com/2860/1006161756...</td>\n",
       "      <td>800</td>\n",
       "    </tr>\n",
       "    <tr>\n",
       "      <th>10069471644</th>\n",
       "      <td>500</td>\n",
       "      <td>https://farm8.staticflickr.com/7329/1006947164...</td>\n",
       "      <td>0</td>\n",
       "      <td>320</td>\n",
       "      <td>100</td>\n",
       "      <td>NaN</td>\n",
       "      <td>1</td>\n",
       "      <td>0</td>\n",
       "      <td>https://farm8.staticflickr.com/7329/1006947164...</td>\n",
       "      <td>https://farm8.staticflickr.com/7329/1006947164...</td>\n",
       "      <td>...</td>\n",
       "      <td>Summer Vacation 2013 (part 1) 783</td>\n",
       "      <td>315</td>\n",
       "      <td>151</td>\n",
       "      <td>7329</td>\n",
       "      <td>8</td>\n",
       "      <td>https://farm8.staticflickr.com/7329/1006947164...</td>\n",
       "      <td>NaN</td>\n",
       "      <td>505</td>\n",
       "      <td>https://farm8.staticflickr.com/7329/1006947164...</td>\n",
       "      <td>800</td>\n",
       "    </tr>\n",
       "  </tbody>\n",
       "</table>\n",
       "<p>5 rows × 32 columns</p>\n",
       "</div>"
      ],
      "text/plain": [
       "            width_m                                              url_s  \\\n",
       "10034322894     500  https://farm4.staticflickr.com/3718/1003432289...   \n",
       "10054729026     500  https://farm6.staticflickr.com/5539/1005472902...   \n",
       "10061552514     332  https://farm6.staticflickr.com/5329/1006155251...   \n",
       "10061617566     500  https://farm3.staticflickr.com/2860/1006161756...   \n",
       "10069471644     500  https://farm8.staticflickr.com/7329/1006947164...   \n",
       "\n",
       "             isfriend width_n width_t o_width  ispublic  isfamily  \\\n",
       "10034322894         0     320     100     NaN         1         0   \n",
       "10054729026         0     320     100     NaN         1         0   \n",
       "10061552514         0     213      66     NaN         1         0   \n",
       "10061617566         0     320     100     NaN         1         0   \n",
       "10069471644         0     320     100     NaN         1         0   \n",
       "\n",
       "                                                         url_t  \\\n",
       "10034322894  https://farm4.staticflickr.com/3718/1003432289...   \n",
       "10054729026  https://farm6.staticflickr.com/5539/1005472902...   \n",
       "10061552514  https://farm6.staticflickr.com/5329/1006155251...   \n",
       "10061617566  https://farm3.staticflickr.com/2860/1006161756...   \n",
       "10069471644  https://farm8.staticflickr.com/7329/1006947164...   \n",
       "\n",
       "                                                         url_m   ...    \\\n",
       "10034322894  https://farm4.staticflickr.com/3718/1003432289...   ...     \n",
       "10054729026  https://farm6.staticflickr.com/5539/1005472902...   ...     \n",
       "10061552514  https://farm6.staticflickr.com/5329/1006155251...   ...     \n",
       "10061617566  https://farm3.staticflickr.com/2860/1006161756...   ...     \n",
       "10069471644  https://farm8.staticflickr.com/7329/1006947164...   ...     \n",
       "\n",
       "                                         title height_m height_s server farm  \\\n",
       "10034322894          364-Empire State Building      333      160   3718    4   \n",
       "10054729026                           IMG_3661      375      180   5539    6   \n",
       "10061552514             Ebrington Arms pub (2)      500      240   5329    6   \n",
       "10061617566             Ebrington Arms pub (3)      334      160   2860    3   \n",
       "10069471644  Summer Vacation 2013 (part 1) 783      315      151   7329    8   \n",
       "\n",
       "                                                         url_z o_height  \\\n",
       "10034322894  https://farm4.staticflickr.com/3718/1003432289...      NaN   \n",
       "10054729026  https://farm6.staticflickr.com/5539/1005472902...      NaN   \n",
       "10061552514  https://farm6.staticflickr.com/5329/1006155251...      NaN   \n",
       "10061617566  https://farm3.staticflickr.com/2860/1006161756...      NaN   \n",
       "10069471644  https://farm8.staticflickr.com/7329/1006947164...      NaN   \n",
       "\n",
       "            height_c                                              url_c  \\\n",
       "10034322894      534  https://farm4.staticflickr.com/3718/1003432289...   \n",
       "10054729026      600  https://farm6.staticflickr.com/5539/1005472902...   \n",
       "10061552514      800  https://farm6.staticflickr.com/5329/1006155251...   \n",
       "10061617566      534  https://farm3.staticflickr.com/2860/1006161756...   \n",
       "10069471644      505  https://farm8.staticflickr.com/7329/1006947164...   \n",
       "\n",
       "            width_c  \n",
       "10034322894     800  \n",
       "10054729026     800  \n",
       "10061552514     531  \n",
       "10061617566     800  \n",
       "10069471644     800  \n",
       "\n",
       "[5 rows x 32 columns]"
      ]
     },
     "execution_count": 69,
     "metadata": {},
     "output_type": "execute_result"
    }
   ],
   "source": [
    "df2.head()"
   ]
  },
  {
   "cell_type": "code",
   "execution_count": 68,
   "metadata": {
    "collapsed": false
   },
   "outputs": [
    {
     "data": {
      "text/plain": [
       "(4498, 32)"
      ]
     },
     "execution_count": 68,
     "metadata": {},
     "output_type": "execute_result"
    }
   ],
   "source": [
    "df2.shape"
   ]
  },
  {
   "cell_type": "code",
   "execution_count": 87,
   "metadata": {
    "collapsed": false
   },
   "outputs": [
    {
     "data": {
      "image/jpeg": "[encoded data removed]",
      "text/plain": [
       "<IPython.core.display.Image object>"
      ]
     },
     "execution_count": 87,
     "metadata": {},
     "output_type": "execute_result"
    }
   ],
   "source": [
    "display.Image(p['url_s'])"
   ]
  },
  {
   "cell_type": "code",
   "execution_count": null,
   "metadata": {
    "collapsed": true
   },
   "outputs": [],
   "source": []
  },
  {
   "cell_type": "markdown",
   "metadata": {},
   "source": [
    "## End"
   ]
  },
  {
   "cell_type": "code",
   "execution_count": null,
   "metadata": {
    "collapsed": true
   },
   "outputs": [],
   "source": []
  }
 ],
 "metadata": {
  "anaconda-cloud": {},
  "kernelspec": {
   "display_name": "Python [conda root]",
   "language": "python",
   "name": "conda-root-py"
  },
  "language_info": {
   "codemirror_mode": {
    "name": "ipython",
    "version": 3
   },
   "file_extension": ".py",
   "mimetype": "text/x-python",
   "name": "python",
   "nbconvert_exporter": "python",
   "pygments_lexer": "ipython3",
   "version": "3.5.2"
  }
 },
 "nbformat": 4,
 "nbformat_minor": 2
}
