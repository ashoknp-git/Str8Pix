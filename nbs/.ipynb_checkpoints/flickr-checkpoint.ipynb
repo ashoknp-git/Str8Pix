{
 "cells": [
  {
   "cell_type": "code",
   "execution_count": 1,
   "metadata": {
    "collapsed": false
   },
   "outputs": [],
   "source": [
    "import os\n",
    "import flickrapi\n",
    "\n",
    "api_key = os.environ.get('FLICKR_KEY')\n",
    "api_secret = os.environ.get('FLICKR_SECRET')\n",
    "\n",
    "flickr = flickrapi.FlickrAPI(api_key, api_secret)"
   ]
  },
  {
   "cell_type": "code",
   "execution_count": 4,
   "metadata": {
    "collapsed": false,
    "scrolled": true
   },
   "outputs": [
    {
     "name": "stdout",
     "output_type": "stream",
     "text": [
      "Step 1: authenticate\n",
      "https://www.flickr.com/services/oauth/authorize?oauth_token=72157679022966726-47687ee3a3a9c596&perms=read\n"
     ]
    }
   ],
   "source": [
    "print('Step 1: authenticate')\n",
    "\n",
    "# Only do this if we don't have a valid token already\n",
    "if not flickr.token_valid(perms='read'):\n",
    "\n",
    "    # Get a request token\n",
    "    flickr.get_request_token(oauth_callback='oob')\n",
    "\n",
    "    # Open a browser at the authentication URL. Do this however\n",
    "    # you want, as long as the user visits that URL.\n",
    "    authorize_url = flickr.auth_url(perms='read')\n",
    "    print(authorize_url)"
   ]
  },
  {
   "cell_type": "code",
   "execution_count": null,
   "metadata": {
    "collapsed": false
   },
   "outputs": [
    {
     "name": "stdout",
     "output_type": "stream",
     "text": [
      "Step 1: authenticate\n",
      "Verifier code: 667-766-226\n"
     ]
    }
   ],
   "source": [
    "verifier = str(input('Verifier code: '))\n",
    "\n",
    "# Trade the request token for an access token\n",
    "flickr.get_access_token(verifier)\n",
    "\n",
    "print('Step 2: use Flickr')\n",
    "resp = flickr.photos.getInfo(photo_id='7658567128')"
   ]
  },
  {
   "cell_type": "code",
   "execution_count": 5,
   "metadata": {
    "collapsed": false
   },
   "outputs": [
    {
     "ename": "NameError",
     "evalue": "name 'resp' is not defined",
     "output_type": "error",
     "traceback": [
      "\u001b[0;31m-----------------------------------------------------\u001b[0m",
      "\u001b[0;31mNameError\u001b[0m           Traceback (most recent call last)",
      "\u001b[0;32m<ipython-input-5-fa99358403e9>\u001b[0m in \u001b[0;36m<module>\u001b[0;34m()\u001b[0m\n\u001b[0;32m----> 1\u001b[0;31m \u001b[0mresp\u001b[0m\u001b[0;34m\u001b[0m\u001b[0m\n\u001b[0m",
      "\u001b[0;31mNameError\u001b[0m: name 'resp' is not defined"
     ]
    }
   ],
   "source": []
  },
  {
   "cell_type": "code",
   "execution_count": null,
   "metadata": {
    "collapsed": true
   },
   "outputs": [],
   "source": []
  }
 ],
 "metadata": {
  "anaconda-cloud": {},
  "kernelspec": {
   "display_name": "Python [conda root]",
   "language": "python",
   "name": "conda-root-py"
  },
  "language_info": {
   "codemirror_mode": {
    "name": "ipython",
    "version": 3
   },
   "file_extension": ".py",
   "mimetype": "text/x-python",
   "name": "python",
   "nbconvert_exporter": "python",
   "pygments_lexer": "ipython3",
   "version": "3.5.2"
  }
 },
 "nbformat": 4,
 "nbformat_minor": 2
}
